{
 "cells": [
  {
   "cell_type": "code",
   "execution_count": 1,
   "metadata": {},
   "outputs": [],
   "source": [
    "#!pip install tabulate\n",
    "#!pip install gymnasium==0.28.1\n",
    "#!pip install tqdm\n",
    "from coin_game_env import CoinGameEnv\n",
    "from input_agent import InputAgent\n",
    "from random_agent import RandomAgent\n",
    "from minimax_agent import MinimaxAgent\n",
    "from expectimax_agent import ExpectimaxAgent\n",
    "from play import play_vs_other_agent\n",
    "from UONI import UONI\n",
    "from tests import test_agents"
   ]
  },
  {
   "cell_type": "code",
   "execution_count": 2,
   "metadata": {},
   "outputs": [],
   "source": [
    "env = CoinGameEnv(grid_size=3)\n",
    "input_agent = InputAgent()\n",
    "minimax_agent = MinimaxAgent(player=1)\n",
    "expectimax_agent = ExpectimaxAgent(player=1)"
   ]
  },
  {
   "cell_type": "markdown",
   "metadata": {},
   "source": [
    "Input Agents"
   ]
  },
  {
   "cell_type": "code",
   "execution_count": null,
   "metadata": {},
   "outputs": [],
   "source": [
    "#play_vs_other_agent(env, agent1=input_agent, agent2=minimax_agent, render=True)\n",
    "#play_vs_other_agent(env, agent1=minimax_agent, agent2=RandomAgent(2), render=True)"
   ]
  },
  {
   "cell_type": "markdown",
   "metadata": {},
   "source": [
    "Random Agents"
   ]
  },
  {
   "cell_type": "code",
   "execution_count": null,
   "metadata": {},
   "outputs": [],
   "source": [
    "#play_vs_other_agent(env, agent1=RandomAgent(1), agent2=RandomAgent(2), render=True)\n",
    "#play_vs_other_agent(env, agent1= MinimaxAgent(player=1), agent2=RandomAgent(2), render=True)\n",
    "#play_vs_other_agent(env, agent1=expectimax_agent, agent2=RandomAgent(2), render=True)"
   ]
  },
  {
   "cell_type": "markdown",
   "metadata": {},
   "source": [
    "Random Agent vs UONI (Universal Optimization Neural Interface)"
   ]
  },
  {
   "cell_type": "code",
   "execution_count": 3,
   "metadata": {},
   "outputs": [],
   "source": [
    "import matplotlib.pyplot as plt\n",
    "# Assuming ws is a list of winners\n",
    "def print_graph(ws, level):\n",
    "    winners = [\"UONI\", \"OTHER\"]\n",
    "    win_counts = [ws.count(x) for x in [1,2]]\n",
    "\n",
    "    plt.bar(winners, win_counts)\n",
    "    plt.xlabel('Winner Number ' + level)\n",
    "    plt.ylabel('Win Amount')\n",
    "    plt.title('Win Amount per Winner')\n",
    "    plt.show()"
   ]
  },
  {
   "cell_type": "code",
   "execution_count": null,
   "metadata": {},
   "outputs": [],
   "source": [
    "from tqdm import tqdm\n",
    "ws = {'easy':[], 'medium':[], 'hard':[]}\n",
    "for level in ['easy', 'medium', 'hard']:\n",
    "    for i in tqdm(range(50)):\n",
    "        if i%2 == 0:\n",
    "            ws[level].append(play_vs_other_agent(env, agent1=UONI(1, level), agent2=ExpectimaxAgent(2), render=False))\n",
    "        else:\n",
    "            ws[level].append(3-play_vs_other_agent(env, agent1=ExpectimaxAgent(1), agent2=UONI(2, level), render=False))\n",
    "    print_graph(ws[level], level)"
   ]
  }
 ],
 "metadata": {
  "kernelspec": {
   "display_name": "Python 3",
   "language": "python",
   "name": "python3"
  },
  "language_info": {
   "codemirror_mode": {
    "name": "ipython",
    "version": 3
   },
   "file_extension": ".py",
   "mimetype": "text/x-python",
   "name": "python",
   "nbconvert_exporter": "python",
   "pygments_lexer": "ipython3",
   "version": "3.12.2"
  }
 },
 "nbformat": 4,
 "nbformat_minor": 2
}
